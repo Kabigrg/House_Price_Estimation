{
 "cells": [
  {
   "cell_type": "markdown",
   "id": "de5bf77c-9e9c-4010-9ab2-d6eb6223d943",
   "metadata": {
    "tags": []
   },
   "source": [
    "## PROJECT #2.Question #2"
   ]
  },
  {
   "cell_type": "markdown",
   "id": "b70bdd6b-e8d8-42fc-ac86-ed6d533a9bc4",
   "metadata": {},
   "source": [
    "Question #2 (50 points)\n",
    
   ]
  },
  {
   "cell_type": "markdown",
   "id": "c7d0c34e-960c-43c2-97a3-66cbaff0f4d2",
   "metadata": {},
   "source": [
    "## Regression Model for estimating the price of a house"
   ]
  },
  {
   "cell_type": "markdown",
   "id": "7e5f89f7-120f-4f52-b1d6-1c0f4717aa69",
   "metadata": {},
   "source": [
    " \n",
    "I have chosen this topic because I want to learn how to retrieve data from API and use it in regression \n",
    "analysis like this and improve my machine learning skills to estimate future values such as price. \n",
    "Estimating future prices can be a very useful skill that I can use in any other field such Insurance, \n",
    "company’s profit which can be a very useful tool for landing a job. I would like to use the below API to \n",
    "generate housing price estimates. I will be using Linear Regression model. The key features will be noise \n",
    "score, nearby schools, commute time, mortgage rate and recently sold homes which will give me \n",
    "estimated price. \n",
    "API - \n",
    "https://www.kaggle.com/datasets/paultimothymooney/zillow-house-price-data\n"
   ]
  },
  {
   "cell_type": "code",
   "execution_count": 30,
   "id": "fc98460e-d092-45d4-b4eb-8046beff0c35",
   "metadata": {},
   "outputs": [
    {
     "name": "stdout",
     "output_type": "stream",
     "text": [
      "Run time: 12/20/23 22:08:34\n"
     ]
    }
   ],
   "source": [
    "from datetime import datetime\n",
    "print(f'Run time: {datetime.now().strftime(\"%D %T\")}')"
   ]
  },
  {
   "cell_type": "markdown",
   "id": "e406535e-0c7a-44c6-b871-cb3e3e1dd6f2",
   "metadata": {},
   "source": [
    "### Import libraries"
   ]
  },
  {
   "cell_type": "code",
   "execution_count": 31,
   "id": "ddcf166f-04c5-4c46-885d-976794ce01a7",
   "metadata": {},
   "outputs": [],
   "source": [
    "import pandas as pd\n",
    "import numpy as np\n",
    "import matplotlib.pyplot as plt\n",
    "import seaborn as sns\n",
    "from sklearn.model_selection import train_test_split\n",
    "from sklearn import metrics\n",
    "from sklearn.preprocessing import MinMaxScaler\n",
    "from sklearn.linear_model import LinearRegression\n",
    "from sklearn.metrics import mean_squared_error\n",
    "from sklearn.metrics import mean_absolute_error\n",
    "from sklearn.metrics import r2_score\n",
    "\n"
   ]
  },
  {
   "cell_type": "markdown",
   "id": "1651e763-899f-4765-bfc0-664e3e691e41",
   "metadata": {},
   "source": [
    "## Load data"
   ]
  },
  {
   "cell_type": "code",
   "execution_count": 32,
   "id": "a343a0b7-627a-41bc-9d2b-2569261010db",
   "metadata": {},
   "outputs": [],
   "source": [
    "# Load data file (social_network_ads.csv) into dataframe\n",
    "df = pd.read_csv('https://raw.githubusercontent.com/Kabigrg/House_Price_Estimation/main/data.csv')"
   ]
  },
  {
   "cell_type": "markdown",
   "id": "f6f66f13-9850-4d5f-b2b7-cca6e562d3db",
   "metadata": {},
   "source": [
    "## Examine data"
   ]
  },
  {
   "cell_type": "code",
   "execution_count": 33,
   "id": "bafca886-3dbd-48d7-940a-a1bbf2c5f6ff",
   "metadata": {},
   "outputs": [
    {
     "data": {
      "text/plain": [
       "(4600, 18)"
      ]
     },
     "execution_count": 33,
     "metadata": {},
     "output_type": "execute_result"
    }
   ],
   "source": [
    "df.shape"
   ]
  },
  {
   "cell_type": "code",
   "execution_count": 34,
   "id": "9e41f3dd-83bf-4587-8d7a-65bdec481794",
   "metadata": {},
   "outputs": [
    {
     "name": "stdout",
     "output_type": "stream",
     "text": [
      "<class 'pandas.core.frame.DataFrame'>\n",
      "RangeIndex: 4600 entries, 0 to 4599\n",
      "Data columns (total 18 columns):\n",
      " #   Column         Non-Null Count  Dtype  \n",
      "---  ------         --------------  -----  \n",
      " 0   date           4600 non-null   object \n",
      " 1   price          4600 non-null   float64\n",
      " 2   bedrooms       4600 non-null   float64\n",
      " 3   bathrooms      4600 non-null   float64\n",
      " 4   sqft_living    4600 non-null   int64  \n",
      " 5   sqft_lot       4600 non-null   int64  \n",
      " 6   floors         4600 non-null   float64\n",
      " 7   waterfront     4600 non-null   int64  \n",
      " 8   view           4600 non-null   int64  \n",
      " 9   condition      4600 non-null   int64  \n",
      " 10  sqft_above     4600 non-null   int64  \n",
      " 11  sqft_basement  4600 non-null   int64  \n",
      " 12  yr_built       4600 non-null   int64  \n",
      " 13  yr_renovated   4600 non-null   int64  \n",
      " 14  street         4600 non-null   object \n",
      " 15  city           4600 non-null   object \n",
      " 16  statezip       4600 non-null   object \n",
      " 17  country        4600 non-null   object \n",
      "dtypes: float64(4), int64(9), object(5)\n",
      "memory usage: 647.0+ KB\n"
     ]
    }
   ],
   "source": [
    "df.info()"
   ]
  },
  {
   "cell_type": "code",
   "execution_count": 35,
   "id": "43b23983-cdf9-45c3-9359-9bfc8e27e984",
   "metadata": {},
   "outputs": [
    {
     "data": {
      "text/html": [
       "<div>\n",
       "<style scoped>\n",
       "    .dataframe tbody tr th:only-of-type {\n",
       "        vertical-align: middle;\n",
       "    }\n",
       "\n",
       "    .dataframe tbody tr th {\n",
       "        vertical-align: top;\n",
       "    }\n",
       "\n",
       "    .dataframe thead th {\n",
       "        text-align: right;\n",
       "    }\n",
       "</style>\n",
       "<table border=\"1\" class=\"dataframe\">\n",
       "  <thead>\n",
       "    <tr style=\"text-align: right;\">\n",
       "      <th></th>\n",
       "      <th>date</th>\n",
       "      <th>price</th>\n",
       "      <th>bedrooms</th>\n",
       "      <th>bathrooms</th>\n",
       "      <th>sqft_living</th>\n",
       "      <th>sqft_lot</th>\n",
       "      <th>floors</th>\n",
       "      <th>waterfront</th>\n",
       "      <th>view</th>\n",
       "      <th>condition</th>\n",
       "      <th>sqft_above</th>\n",
       "      <th>sqft_basement</th>\n",
       "      <th>yr_built</th>\n",
       "      <th>yr_renovated</th>\n",
       "      <th>street</th>\n",
       "      <th>city</th>\n",
       "      <th>statezip</th>\n",
       "      <th>country</th>\n",
       "    </tr>\n",
       "  </thead>\n",
       "  <tbody>\n",
       "    <tr>\n",
       "      <th>0</th>\n",
       "      <td>2014-05-02 00:00:00</td>\n",
       "      <td>313000.0</td>\n",
       "      <td>3.0</td>\n",
       "      <td>1.50</td>\n",
       "      <td>1340</td>\n",
       "      <td>7912</td>\n",
       "      <td>1.5</td>\n",
       "      <td>0</td>\n",
       "      <td>0</td>\n",
       "      <td>3</td>\n",
       "      <td>1340</td>\n",
       "      <td>0</td>\n",
       "      <td>1955</td>\n",
       "      <td>2005</td>\n",
       "      <td>18810 Densmore Ave N</td>\n",
       "      <td>Shoreline</td>\n",
       "      <td>WA 98133</td>\n",
       "      <td>USA</td>\n",
       "    </tr>\n",
       "    <tr>\n",
       "      <th>1</th>\n",
       "      <td>2014-05-02 00:00:00</td>\n",
       "      <td>2384000.0</td>\n",
       "      <td>5.0</td>\n",
       "      <td>2.50</td>\n",
       "      <td>3650</td>\n",
       "      <td>9050</td>\n",
       "      <td>2.0</td>\n",
       "      <td>0</td>\n",
       "      <td>4</td>\n",
       "      <td>5</td>\n",
       "      <td>3370</td>\n",
       "      <td>280</td>\n",
       "      <td>1921</td>\n",
       "      <td>0</td>\n",
       "      <td>709 W Blaine St</td>\n",
       "      <td>Seattle</td>\n",
       "      <td>WA 98119</td>\n",
       "      <td>USA</td>\n",
       "    </tr>\n",
       "    <tr>\n",
       "      <th>2</th>\n",
       "      <td>2014-05-02 00:00:00</td>\n",
       "      <td>342000.0</td>\n",
       "      <td>3.0</td>\n",
       "      <td>2.00</td>\n",
       "      <td>1930</td>\n",
       "      <td>11947</td>\n",
       "      <td>1.0</td>\n",
       "      <td>0</td>\n",
       "      <td>0</td>\n",
       "      <td>4</td>\n",
       "      <td>1930</td>\n",
       "      <td>0</td>\n",
       "      <td>1966</td>\n",
       "      <td>0</td>\n",
       "      <td>26206-26214 143rd Ave SE</td>\n",
       "      <td>Kent</td>\n",
       "      <td>WA 98042</td>\n",
       "      <td>USA</td>\n",
       "    </tr>\n",
       "    <tr>\n",
       "      <th>3</th>\n",
       "      <td>2014-05-02 00:00:00</td>\n",
       "      <td>420000.0</td>\n",
       "      <td>3.0</td>\n",
       "      <td>2.25</td>\n",
       "      <td>2000</td>\n",
       "      <td>8030</td>\n",
       "      <td>1.0</td>\n",
       "      <td>0</td>\n",
       "      <td>0</td>\n",
       "      <td>4</td>\n",
       "      <td>1000</td>\n",
       "      <td>1000</td>\n",
       "      <td>1963</td>\n",
       "      <td>0</td>\n",
       "      <td>857 170th Pl NE</td>\n",
       "      <td>Bellevue</td>\n",
       "      <td>WA 98008</td>\n",
       "      <td>USA</td>\n",
       "    </tr>\n",
       "    <tr>\n",
       "      <th>4</th>\n",
       "      <td>2014-05-02 00:00:00</td>\n",
       "      <td>550000.0</td>\n",
       "      <td>4.0</td>\n",
       "      <td>2.50</td>\n",
       "      <td>1940</td>\n",
       "      <td>10500</td>\n",
       "      <td>1.0</td>\n",
       "      <td>0</td>\n",
       "      <td>0</td>\n",
       "      <td>4</td>\n",
       "      <td>1140</td>\n",
       "      <td>800</td>\n",
       "      <td>1976</td>\n",
       "      <td>1992</td>\n",
       "      <td>9105 170th Ave NE</td>\n",
       "      <td>Redmond</td>\n",
       "      <td>WA 98052</td>\n",
       "      <td>USA</td>\n",
       "    </tr>\n",
       "  </tbody>\n",
       "</table>\n",
       "</div>"
      ],
      "text/plain": [
       "                  date      price  bedrooms  bathrooms  sqft_living  sqft_lot  \\\n",
       "0  2014-05-02 00:00:00   313000.0       3.0       1.50         1340      7912   \n",
       "1  2014-05-02 00:00:00  2384000.0       5.0       2.50         3650      9050   \n",
       "2  2014-05-02 00:00:00   342000.0       3.0       2.00         1930     11947   \n",
       "3  2014-05-02 00:00:00   420000.0       3.0       2.25         2000      8030   \n",
       "4  2014-05-02 00:00:00   550000.0       4.0       2.50         1940     10500   \n",
       "\n",
       "   floors  waterfront  view  condition  sqft_above  sqft_basement  yr_built  \\\n",
       "0     1.5           0     0          3        1340              0      1955   \n",
       "1     2.0           0     4          5        3370            280      1921   \n",
       "2     1.0           0     0          4        1930              0      1966   \n",
       "3     1.0           0     0          4        1000           1000      1963   \n",
       "4     1.0           0     0          4        1140            800      1976   \n",
       "\n",
       "   yr_renovated                    street       city  statezip country  \n",
       "0          2005      18810 Densmore Ave N  Shoreline  WA 98133     USA  \n",
       "1             0           709 W Blaine St    Seattle  WA 98119     USA  \n",
       "2             0  26206-26214 143rd Ave SE       Kent  WA 98042     USA  \n",
       "3             0           857 170th Pl NE   Bellevue  WA 98008     USA  \n",
       "4          1992         9105 170th Ave NE    Redmond  WA 98052     USA  "
      ]
     },
     "execution_count": 35,
     "metadata": {},
     "output_type": "execute_result"
    }
   ],
   "source": [
    "df.head()"
   ]
  },
  {
   "cell_type": "code",
   "execution_count": 36,
   "id": "4cc7c1f5-8eeb-423b-9efb-d8367b90f486",
   "metadata": {},
   "outputs": [
    {
     "data": {
      "text/plain": [
       "2014-06-23    142\n",
       "2014-06-25    131\n",
       "2014-06-26    131\n",
       "2014-07-08    127\n",
       "2014-07-09    121\n",
       "             ... \n",
       "2014-06-07      4\n",
       "2014-07-06      3\n",
       "2014-07-04      2\n",
       "2014-05-11      2\n",
       "2014-05-17      1\n",
       "Name: date, Length: 70, dtype: int64"
      ]
     },
     "execution_count": 36,
     "metadata": {},
     "output_type": "execute_result"
    }
   ],
   "source": [
    "df['date'] = pd.to_datetime(df['date']).dt.date\n",
    "df['date'].value_counts()"
   ]
  },
  {
   "cell_type": "code",
   "execution_count": 37,
   "id": "2df174a2-bf53-4085-ac84-fdd6a0dc5c9e",
   "metadata": {
    "tags": []
   },
   "outputs": [
    {
     "data": {
      "text/html": [
       "<div>\n",
       "<style scoped>\n",
       "    .dataframe tbody tr th:only-of-type {\n",
       "        vertical-align: middle;\n",
       "    }\n",
       "\n",
       "    .dataframe tbody tr th {\n",
       "        vertical-align: top;\n",
       "    }\n",
       "\n",
       "    .dataframe thead th {\n",
       "        text-align: right;\n",
       "    }\n",
       "</style>\n",
       "<table border=\"1\" class=\"dataframe\">\n",
       "  <thead>\n",
       "    <tr style=\"text-align: right;\">\n",
       "      <th></th>\n",
       "      <th>date</th>\n",
       "      <th>price</th>\n",
       "      <th>bedrooms</th>\n",
       "      <th>bathrooms</th>\n",
       "      <th>sqft_living</th>\n",
       "      <th>sqft_lot</th>\n",
       "      <th>floors</th>\n",
       "      <th>waterfront</th>\n",
       "      <th>view</th>\n",
       "      <th>condition</th>\n",
       "      <th>sqft_above</th>\n",
       "      <th>sqft_basement</th>\n",
       "      <th>yr_built</th>\n",
       "      <th>yr_renovated</th>\n",
       "      <th>street</th>\n",
       "      <th>city</th>\n",
       "      <th>statezip</th>\n",
       "      <th>country</th>\n",
       "    </tr>\n",
       "  </thead>\n",
       "  <tbody>\n",
       "    <tr>\n",
       "      <th>0</th>\n",
       "      <td>2014-05-02</td>\n",
       "      <td>313000.0</td>\n",
       "      <td>3.0</td>\n",
       "      <td>1.50</td>\n",
       "      <td>1340</td>\n",
       "      <td>7912</td>\n",
       "      <td>1.5</td>\n",
       "      <td>0</td>\n",
       "      <td>0</td>\n",
       "      <td>3</td>\n",
       "      <td>1340</td>\n",
       "      <td>0</td>\n",
       "      <td>1955</td>\n",
       "      <td>2005</td>\n",
       "      <td>18810 Densmore Ave N</td>\n",
       "      <td>Shoreline</td>\n",
       "      <td>WA 98133</td>\n",
       "      <td>USA</td>\n",
       "    </tr>\n",
       "    <tr>\n",
       "      <th>1</th>\n",
       "      <td>2014-05-02</td>\n",
       "      <td>2384000.0</td>\n",
       "      <td>5.0</td>\n",
       "      <td>2.50</td>\n",
       "      <td>3650</td>\n",
       "      <td>9050</td>\n",
       "      <td>2.0</td>\n",
       "      <td>0</td>\n",
       "      <td>4</td>\n",
       "      <td>5</td>\n",
       "      <td>3370</td>\n",
       "      <td>280</td>\n",
       "      <td>1921</td>\n",
       "      <td>0</td>\n",
       "      <td>709 W Blaine St</td>\n",
       "      <td>Seattle</td>\n",
       "      <td>WA 98119</td>\n",
       "      <td>USA</td>\n",
       "    </tr>\n",
       "    <tr>\n",
       "      <th>2</th>\n",
       "      <td>2014-05-02</td>\n",
       "      <td>342000.0</td>\n",
       "      <td>3.0</td>\n",
       "      <td>2.00</td>\n",
       "      <td>1930</td>\n",
       "      <td>11947</td>\n",
       "      <td>1.0</td>\n",
       "      <td>0</td>\n",
       "      <td>0</td>\n",
       "      <td>4</td>\n",
       "      <td>1930</td>\n",
       "      <td>0</td>\n",
       "      <td>1966</td>\n",
       "      <td>0</td>\n",
       "      <td>26206-26214 143rd Ave SE</td>\n",
       "      <td>Kent</td>\n",
       "      <td>WA 98042</td>\n",
       "      <td>USA</td>\n",
       "    </tr>\n",
       "    <tr>\n",
       "      <th>3</th>\n",
       "      <td>2014-05-02</td>\n",
       "      <td>420000.0</td>\n",
       "      <td>3.0</td>\n",
       "      <td>2.25</td>\n",
       "      <td>2000</td>\n",
       "      <td>8030</td>\n",
       "      <td>1.0</td>\n",
       "      <td>0</td>\n",
       "      <td>0</td>\n",
       "      <td>4</td>\n",
       "      <td>1000</td>\n",
       "      <td>1000</td>\n",
       "      <td>1963</td>\n",
       "      <td>0</td>\n",
       "      <td>857 170th Pl NE</td>\n",
       "      <td>Bellevue</td>\n",
       "      <td>WA 98008</td>\n",
       "      <td>USA</td>\n",
       "    </tr>\n",
       "    <tr>\n",
       "      <th>4</th>\n",
       "      <td>2014-05-02</td>\n",
       "      <td>550000.0</td>\n",
       "      <td>4.0</td>\n",
       "      <td>2.50</td>\n",
       "      <td>1940</td>\n",
       "      <td>10500</td>\n",
       "      <td>1.0</td>\n",
       "      <td>0</td>\n",
       "      <td>0</td>\n",
       "      <td>4</td>\n",
       "      <td>1140</td>\n",
       "      <td>800</td>\n",
       "      <td>1976</td>\n",
       "      <td>1992</td>\n",
       "      <td>9105 170th Ave NE</td>\n",
       "      <td>Redmond</td>\n",
       "      <td>WA 98052</td>\n",
       "      <td>USA</td>\n",
       "    </tr>\n",
       "  </tbody>\n",
       "</table>\n",
       "</div>"
      ],
      "text/plain": [
       "         date      price  bedrooms  bathrooms  sqft_living  sqft_lot  floors  \\\n",
       "0  2014-05-02   313000.0       3.0       1.50         1340      7912     1.5   \n",
       "1  2014-05-02  2384000.0       5.0       2.50         3650      9050     2.0   \n",
       "2  2014-05-02   342000.0       3.0       2.00         1930     11947     1.0   \n",
       "3  2014-05-02   420000.0       3.0       2.25         2000      8030     1.0   \n",
       "4  2014-05-02   550000.0       4.0       2.50         1940     10500     1.0   \n",
       "\n",
       "   waterfront  view  condition  sqft_above  sqft_basement  yr_built  \\\n",
       "0           0     0          3        1340              0      1955   \n",
       "1           0     4          5        3370            280      1921   \n",
       "2           0     0          4        1930              0      1966   \n",
       "3           0     0          4        1000           1000      1963   \n",
       "4           0     0          4        1140            800      1976   \n",
       "\n",
       "   yr_renovated                    street       city  statezip country  \n",
       "0          2005      18810 Densmore Ave N  Shoreline  WA 98133     USA  \n",
       "1             0           709 W Blaine St    Seattle  WA 98119     USA  \n",
       "2             0  26206-26214 143rd Ave SE       Kent  WA 98042     USA  \n",
       "3             0           857 170th Pl NE   Bellevue  WA 98008     USA  \n",
       "4          1992         9105 170th Ave NE    Redmond  WA 98052     USA  "
      ]
     },
     "execution_count": 37,
     "metadata": {},
     "output_type": "execute_result"
    }
   ],
   "source": [
    "df.head()"
   ]
  },
  {
   "cell_type": "markdown",
   "id": "e4807519-30de-4c3b-9e13-82d7d1bb6fa5",
   "metadata": {},
   "source": [
    "### Remove the unnecessary columns"
   ]
  },
  {
   "cell_type": "code",
   "execution_count": 38,
   "id": "c3a10295-8141-4e82-a006-32d6d18ab3e2",
   "metadata": {},
   "outputs": [
    {
     "data": {
      "text/html": [
       "<div>\n",
       "<style scoped>\n",
       "    .dataframe tbody tr th:only-of-type {\n",
       "        vertical-align: middle;\n",
       "    }\n",
       "\n",
       "    .dataframe tbody tr th {\n",
       "        vertical-align: top;\n",
       "    }\n",
       "\n",
       "    .dataframe thead th {\n",
       "        text-align: right;\n",
       "    }\n",
       "</style>\n",
       "<table border=\"1\" class=\"dataframe\">\n",
       "  <thead>\n",
       "    <tr style=\"text-align: right;\">\n",
       "      <th></th>\n",
       "      <th>price</th>\n",
       "      <th>bedrooms</th>\n",
       "      <th>bathrooms</th>\n",
       "      <th>sqft_living</th>\n",
       "      <th>sqft_lot</th>\n",
       "      <th>floors</th>\n",
       "      <th>sqft_above</th>\n",
       "      <th>sqft_basement</th>\n",
       "    </tr>\n",
       "  </thead>\n",
       "  <tbody>\n",
       "    <tr>\n",
       "      <th>0</th>\n",
       "      <td>313000.0</td>\n",
       "      <td>3.0</td>\n",
       "      <td>1.50</td>\n",
       "      <td>1340</td>\n",
       "      <td>7912</td>\n",
       "      <td>1.5</td>\n",
       "      <td>1340</td>\n",
       "      <td>0</td>\n",
       "    </tr>\n",
       "    <tr>\n",
       "      <th>1</th>\n",
       "      <td>2384000.0</td>\n",
       "      <td>5.0</td>\n",
       "      <td>2.50</td>\n",
       "      <td>3650</td>\n",
       "      <td>9050</td>\n",
       "      <td>2.0</td>\n",
       "      <td>3370</td>\n",
       "      <td>280</td>\n",
       "    </tr>\n",
       "    <tr>\n",
       "      <th>2</th>\n",
       "      <td>342000.0</td>\n",
       "      <td>3.0</td>\n",
       "      <td>2.00</td>\n",
       "      <td>1930</td>\n",
       "      <td>11947</td>\n",
       "      <td>1.0</td>\n",
       "      <td>1930</td>\n",
       "      <td>0</td>\n",
       "    </tr>\n",
       "    <tr>\n",
       "      <th>3</th>\n",
       "      <td>420000.0</td>\n",
       "      <td>3.0</td>\n",
       "      <td>2.25</td>\n",
       "      <td>2000</td>\n",
       "      <td>8030</td>\n",
       "      <td>1.0</td>\n",
       "      <td>1000</td>\n",
       "      <td>1000</td>\n",
       "    </tr>\n",
       "    <tr>\n",
       "      <th>4</th>\n",
       "      <td>550000.0</td>\n",
       "      <td>4.0</td>\n",
       "      <td>2.50</td>\n",
       "      <td>1940</td>\n",
       "      <td>10500</td>\n",
       "      <td>1.0</td>\n",
       "      <td>1140</td>\n",
       "      <td>800</td>\n",
       "    </tr>\n",
       "  </tbody>\n",
       "</table>\n",
       "</div>"
      ],
      "text/plain": [
       "       price  bedrooms  bathrooms  sqft_living  sqft_lot  floors  sqft_above  \\\n",
       "0   313000.0       3.0       1.50         1340      7912     1.5        1340   \n",
       "1  2384000.0       5.0       2.50         3650      9050     2.0        3370   \n",
       "2   342000.0       3.0       2.00         1930     11947     1.0        1930   \n",
       "3   420000.0       3.0       2.25         2000      8030     1.0        1000   \n",
       "4   550000.0       4.0       2.50         1940     10500     1.0        1140   \n",
       "\n",
       "   sqft_basement  \n",
       "0              0  \n",
       "1            280  \n",
       "2              0  \n",
       "3           1000  \n",
       "4            800  "
      ]
     },
     "execution_count": 38,
     "metadata": {},
     "output_type": "execute_result"
    }
   ],
   "source": [
    "\n",
    "df = df.drop(['date', 'street', 'city', 'statezip', 'country', 'yr_built', 'yr_renovated','view','condition','waterfront'], axis=1)\n",
    "\n",
    "df.head()\n"
   ]
  },
  {
   "cell_type": "code",
   "execution_count": null,
   "id": "7b2d8b6b-0662-4bd1-9e81-c5245df9f284",
   "metadata": {},
   "outputs": [],
   "source": []
  },
  {
   "cell_type": "markdown",
   "id": "428a852b-2cb9-4521-8beb-8576e2fb05af",
   "metadata": {
    "tags": []
   },
   "source": [
    "## 3. Generate at least 4 data visualizations (1 must be a correlation matrix)."
   ]
  },
  {
   "cell_type": "code",
   "execution_count": null,
   "id": "b6aa268d-b22e-4364-ab50-df1c09e506d5",
   "metadata": {},
   "outputs": [],
   "source": []
  },
  {
   "cell_type": "code",
   "execution_count": 39,
   "id": "885c2009-8ce6-4d8f-b5aa-54722a3ef237",
   "metadata": {},
   "outputs": [],
   "source": [
    "Bedroom = df['bedrooms'].value_counts()"
   ]
  },
  {
   "cell_type": "code",
   "execution_count": 40,
   "id": "3a1a41d6-c7f9-44fb-a5df-d771e3625124",
   "metadata": {},
   "outputs": [
    {
     "data": {
      "text/plain": [
       "3.0    2032\n",
       "4.0    1531\n",
       "2.0     566\n",
       "5.0     353\n",
       "6.0      61\n",
       "1.0      38\n",
       "7.0      14\n",
       "8.0       2\n",
       "0.0       2\n",
       "9.0       1\n",
       "Name: bedrooms, dtype: int64"
      ]
     },
     "execution_count": 40,
     "metadata": {},
     "output_type": "execute_result"
    }
   ],
   "source": [
    "Bedroom"
   ]
  },
  {
   "cell_type": "markdown",
   "id": "e8f0b4c4-b3fa-4f9f-b786-ed2eef9b3084",
   "metadata": {},
   "source": [
    "## Pie chart"
   ]
  },
  {
   "cell_type": "code",
   "execution_count": 41,
   "id": "307e5706-562a-48b4-8fd4-8bdad28b2259",
   "metadata": {},
   "outputs": [
    {
     "data": {
      "text/plain": [
       "<Axes: title={'center': 'Pie chart'}, ylabel='bedrooms'>"
      ]
     },
     "execution_count": 41,
     "metadata": {},
     "output_type": "execute_result"
    },
    {
     "data": {
      "image/png": "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\n",
      "text/plain": [
       "<Figure size 600x800 with 1 Axes>"
      ]
     },
     "metadata": {},
     "output_type": "display_data"
    }
   ],
   "source": [
    "plt.figure(figsize = (6,8))\n",
    "Bedroom.plot.pie(title = 'Pie chart')"
   ]
  },
  {
   "cell_type": "markdown",
   "id": "8240be75-1862-46f5-9727-523c3b12dc3d",
   "metadata": {},
   "source": [
    "## Scatter_Plot"
   ]
  },
  {
   "cell_type": "code",
   "execution_count": 42,
   "id": "56fcff88-50a8-48d1-a563-26df93b685ee",
   "metadata": {},
   "outputs": [
    {
     "data": {
      "text/html": [
       "<div>\n",
       "<style scoped>\n",
       "    .dataframe tbody tr th:only-of-type {\n",
       "        vertical-align: middle;\n",
       "    }\n",
       "\n",
       "    .dataframe tbody tr th {\n",
       "        vertical-align: top;\n",
       "    }\n",
       "\n",
       "    .dataframe thead th {\n",
       "        text-align: right;\n",
       "    }\n",
       "</style>\n",
       "<table border=\"1\" class=\"dataframe\">\n",
       "  <thead>\n",
       "    <tr style=\"text-align: right;\">\n",
       "      <th></th>\n",
       "      <th>sqft_lot</th>\n",
       "      <th>price</th>\n",
       "    </tr>\n",
       "  </thead>\n",
       "  <tbody>\n",
       "    <tr>\n",
       "      <th>0</th>\n",
       "      <td>7912</td>\n",
       "      <td>3.130000e+05</td>\n",
       "    </tr>\n",
       "    <tr>\n",
       "      <th>1</th>\n",
       "      <td>9050</td>\n",
       "      <td>2.384000e+06</td>\n",
       "    </tr>\n",
       "    <tr>\n",
       "      <th>2</th>\n",
       "      <td>11947</td>\n",
       "      <td>3.420000e+05</td>\n",
       "    </tr>\n",
       "    <tr>\n",
       "      <th>3</th>\n",
       "      <td>8030</td>\n",
       "      <td>4.200000e+05</td>\n",
       "    </tr>\n",
       "    <tr>\n",
       "      <th>4</th>\n",
       "      <td>10500</td>\n",
       "      <td>5.500000e+05</td>\n",
       "    </tr>\n",
       "    <tr>\n",
       "      <th>...</th>\n",
       "      <td>...</td>\n",
       "      <td>...</td>\n",
       "    </tr>\n",
       "    <tr>\n",
       "      <th>4595</th>\n",
       "      <td>6360</td>\n",
       "      <td>3.081667e+05</td>\n",
       "    </tr>\n",
       "    <tr>\n",
       "      <th>4596</th>\n",
       "      <td>7573</td>\n",
       "      <td>5.343333e+05</td>\n",
       "    </tr>\n",
       "    <tr>\n",
       "      <th>4597</th>\n",
       "      <td>7014</td>\n",
       "      <td>4.169042e+05</td>\n",
       "    </tr>\n",
       "    <tr>\n",
       "      <th>4598</th>\n",
       "      <td>6630</td>\n",
       "      <td>2.034000e+05</td>\n",
       "    </tr>\n",
       "    <tr>\n",
       "      <th>4599</th>\n",
       "      <td>8102</td>\n",
       "      <td>2.206000e+05</td>\n",
       "    </tr>\n",
       "  </tbody>\n",
       "</table>\n",
       "<p>4600 rows × 2 columns</p>\n",
       "</div>"
      ],
      "text/plain": [
       "      sqft_lot         price\n",
       "0         7912  3.130000e+05\n",
       "1         9050  2.384000e+06\n",
       "2        11947  3.420000e+05\n",
       "3         8030  4.200000e+05\n",
       "4        10500  5.500000e+05\n",
       "...        ...           ...\n",
       "4595      6360  3.081667e+05\n",
       "4596      7573  5.343333e+05\n",
       "4597      7014  4.169042e+05\n",
       "4598      6630  2.034000e+05\n",
       "4599      8102  2.206000e+05\n",
       "\n",
       "[4600 rows x 2 columns]"
      ]
     },
     "execution_count": 42,
     "metadata": {},
     "output_type": "execute_result"
    }
   ],
   "source": [
    "df1 = pd.DataFrame(df,columns=['sqft_lot','price'])\n",
    "df1\n"
   ]
  },
  {
   "cell_type": "code",
   "execution_count": 43,
   "id": "c4612240-27b8-4410-9109-6391aa9e62e9",
   "metadata": {},
   "outputs": [
    {
     "data": {
      "text/plain": [
       "<Axes: title={'center': 'Sqft_lot vs Price'}, xlabel='sqft_lot', ylabel='price'>"
      ]
     },
     "execution_count": 43,
     "metadata": {},
     "output_type": "execute_result"
    },
    {
     "data": {
      "image/png": "iVBORw0KGgoAAAANSUhEUgAAAjcAAAHFCAYAAAAOmtghAAAAOXRFWHRTb2Z0d2FyZQBNYXRwbG90bGliIHZlcnNpb24zLjcuMCwgaHR0cHM6Ly9tYXRwbG90bGliLm9yZy88F64QAAAACXBIWXMAAA9hAAAPYQGoP6dpAAA+9klEQVR4nO3de3hU1d328XtyIIFAguREAiEJEJCTGBOREEEoCoUW69ki5SRaqQgoUhVtH7TlKdWCRanAoyKUikgtoFgV4VVOAirQpBRB5BBAISkkSAJBExLW+wfNlCGnmclkZrLz/VzXXFdnzd57frOL7Ju111rbZowxAgAAsIgAXxcAAADgSYQbAABgKYQbAABgKYQbAABgKYQbAABgKYQbAABgKYQbAABgKYQbAABgKYQbAABgKYQbwGI+++wz3XrrrWrXrp1CQkIUGxurjIwMPfroo24f86OPPlJ6errCwsJks9n09ttv64033tCcOXPcOt6YMWOUlJTk1r7z5s3T4sWL3dq3PthsNodXRESE+vfvr/fee8+p/Tds2CCbzaYNGzbUb6FAI2Lj8QuAdbz33nu6+eab1b9/f91///2Ki4tTbm6uduzYoTfffFPffPONy8c0xigqKkqdOnXSjBkzFBYWps6dO2vkyJHavXu3Dh8+7PIxx4wZow0bNri1b/fu3RUVFeU3YcBms+mOO+7Qo48+qgsXLujQoUOaMWOGvvrqK7377rv60Y9+VOP+RUVF2rNnj7p27arw8HAvVQ1YW5CvCwDgOc8995ySk5P14YcfKijov/95//SnP9Vzzz3n1jGPHz+uU6dO6dZbb9XAgQM9VaqlxMbGqnfv3pKkPn36KCMjQx07dtScOXOqDTfnz5+XzWZTeHi4fV8AnsFtKcBCCgoKFBUV5RBsKgQEOP7nfv78eT322GNq3bq1mjVrpuuvv16ff/65kpKSNGbMGEnS008/rbZt20qSHn/8cdlsNiUlJdlvuxw5csThlkxdfP/995o2bZqSk5PVpEkTtWnTRhMmTNDp06ft2yQlJemLL77Qxo0b7d9Z0+2t1NRU9e3bt1J7eXm52rRpo9tuu83eNn/+fPXs2VPNmzdXixYtdOWVV+rJJ59067d06NBB0dHROnLkiKT/3nr6y1/+okcffVRt2rRRSEiIDhw4UO1tqc8++0zDhg1TZGSkQkND1aFDBz388MMO2+zfv1/33HOPYmJiFBISoi5duuill15yq2bASui5ASwkIyNDr776qiZNmqQRI0bommuuUXBwcJXb3n///VqyZImmTp2qm266Sbt379Ztt92mM2fO2Le577771LNnT912222aOHGi7rnnHoWEhCgkJEQ///nPdfDgQa1atarOdRtjdMstt+ijjz7StGnT1LdvX+3atUvTp0/Xtm3btG3bNoWEhGjVqlW64447FBERoXnz5kmSQkJCqj3u2LFjNXnyZO3fv18pKSn29rVr1+r48eMaO3asJOnNN9/Ugw8+qIkTJ2rWrFkKCAjQgQMHtGfPHrd+z7fffquCggKH75SkadOmKSMjQwsWLFBAQIBiYmKUl5dXaf8PP/xQw4YNU5cuXfT888+rXbt2Onz4sNauXWvfZs+ePerTp4/atWun2bNnq3Xr1vrwww81adIk5efna/r06W7VDliCAWAZ+fn55vrrrzeSjCQTHBxs+vTpY2bOnGnOnDlj327v3r1GknnkkUcc9l+6dKmRZEaPHm1vy8nJMZLMH/7wB4dtf/SjH5nExES36hw9erTDvmvWrDGSzHPPPeew3fLly40k8/LLL9vbunXrZm644Qanvic/P980adLEPPnkkw7td911l4mNjTXnz583xhjz0EMPmZYtW7r1WySZBx980Jw/f96UlpaavXv3miFDhhhJ5qWXXjLGGLN+/XojyfTr16/S/hWfrV+/3t7WoUMH06FDB/Pdd99V+72DBw82bdu2NYWFhQ7tDz30kAkNDTWnTp1y6/cAVtCob0tt2rRJw4YNU3x8vH0GiCuefvrpSjMlbDabwsLC6qdgoBaRkZHavHmztm/frt///vf6yU9+oq+++krTpk1Tjx49lJ+fL0lav369JGnEiBEO+991111V3tKqbx9//LEk2W+HVbjzzjsVFhamjz76yK3jRkZGatiwYfrzn/+sCxcuSLrYq/LOO+9o1KhR9t/aq1cvnT59WsOHD9c777xjP0/OmjdvnoKDg9WkSRN16dJFW7du1W9+8xs9+OCDDtvdfvvttR7rq6++0sGDBzVu3DiFhoZWuc3333+vjz76SLfeequaNWumsrIy+2vo0KH6/vvv9emnn7r0GwAradThpri4WD179tSf/vQnt/afOnWqcnNzHV5du3bVnXfe6eFKAdekp6fr8ccf11tvvaXjx4/rkUce0eHDh+2DigsKCiRJrVu3dtgvKChIkZGRXq+3oKBAQUFBio6Odmi32Wxq3bq1vV533HvvvTp27JjWrVsnSVq2bJlKSkocgtTIkSP12muv6ciRI7r99tsVExOj6667zr5Pbe666y5t375dO3bs0L59+1RQUKBf//rXlbaLi4ur9VgnT56UJPtYp6oUFBSorKxMc+fOVXBwsMNr6NChkuRyQAOspFGHmyFDhmjGjBkOgwovVVpaqscee0xt2rRRWFiYrrvuOodBf82bN1fr1q3tr3//+9/as2ePxo0b56VfANQuODjYPv5i9+7dkmQPMJeP9ygrK6tTkHBXZGSkysrK7Bf2CsYY5eXlKSoqyu1jDx48WPHx8Vq0aJEkadGiRbruuuvUtWtXh+3Gjh2rrVu3qrCwUO+9956MMfrxj39sHxRck+joaKWnpystLU2dOnVSYGBglds5M+i6IuDVNG3/iiuuUGBgoMaMGaPt27dX+aoIOUBj1KjDTW3Gjh2rLVu26M0339SuXbt055136oc//KH2799f5favvvqqOnXqVOXsDMAbcnNzq2zfu3evJCk+Pl6S1L9/f0nS0qVLHbb761//qrKyMqe+KyQkRN99952blTqqmGL++uuvO7SvWLFCxcXFDlPQXf3ewMBAjRw5Um+//bY2b96sHTt26N577612+7CwMA0ZMkRPPfWUSktL9cUXX7j4a+qmU6dO6tChg1577TWVlJRUuU2zZs00YMAAZWVl6aqrrlJ6enqlly964AB/wWypahw8eFDLli3TN998Y78gTJ06VWvWrNGiRYv0u9/9zmH7kpISLV26VE888YQvygUkXeylaNu2rYYNG6Yrr7xSFy5cUHZ2tmbPnq3mzZtr8uTJkqQuXbroZz/7mebMmaPg4GDdeOON2r17t2bNmuX0QnI9evTQypUrNX/+fKWlpSkgIEDp6elu1X3TTTdp8ODBevzxx1VUVKTMzEz7bKnU1FSNHDnS4XvffPNNLV++XO3bt1doaKh69OhR4/HvvfdePfvss7rnnnvUtGlT3X333Q6f33///WratKkyMzMVFxenvLw8zZw5UxEREbr22mvd+k118dJLL2nYsGHq3bu3HnnkEbVr105Hjx7Vhx9+aA+kL7zwgq6//nr17dtXv/jFL5SUlKQzZ87owIEDevfdd+3jmIBGydcjmv2FJLNq1Sr7+7/+9a9GkgkLC3N4BQUFmbvuuqvS/m+88YYJCgoyubm5XqwacLR8+XJzzz33mJSUFNO8eXMTHBxs2rVrZ0aOHGn27NnjsG1JSYl59NFHTUxMjAkNDTW9e/c227ZtM4mJiU7Nljp16pS54447TMuWLY3NZjOu/HVy+WwpY4z57rvvzOOPP24SExNNcHCwiYuLM7/4xS/Mt99+67Dd4cOHzaBBg0yLFi2MJKdnbPXp08dIMiNGjKj02Z///GczYMAAExsba5o0aWLi4+PNXXfdZXbt2lXrcSWZCRMm1LhNxYyot956q9rPLp0tZYwx27ZtM0OGDDEREREmJCTEdOjQodLstpycHHPvvfeaNm3amODgYBMdHW369OljZsyYUWvdgJXx+IX/sNlsWrVqlW655RZJ0vLlyzVixAh98cUXle6fV4y1udTAgQMVHh7ukTU/AF+qWKTPn57fBACu4LZUNVJTU1VeXq4TJ07UOoYmJydH69ev1+rVq71UHQAAqE6jDjdnz57VgQMH7O9zcnKUnZ2tVq1aqVOnThoxYoRGjRql2bNnKzU1Vfn5+fr444/Vo0cPh5kIr732muLi4jRkyBBf/AzAb5SXl6umzmCbzVbtTCIA8JRGfVtqw4YNGjBgQKX20aNHa/HixTp//rxmzJihJUuW6NixY4qMjFRGRoaeeeYZ+wDGCxcuKDExUaNGjdL//u//evsnAH6lf//+2rhxY7WfJyYmuvUkcABwRaMONwA8a9++fQ7PprpcSEhIrTObAKCuCDcAAMBSWMQPAABYSqMbUHzhwgUdP35cLVq0cGopdAAA4HvGGJ05c0bx8fEKCKi5b6bRhZvjx48rISHB12UAAAA3fP311zU+WFZqhOGmRYsWki6eHGeXmQcAAL5VVFSkhIQE+3W8Jo0u3FTcigoPDyfcAADQwDgzpIQBxQAAwFIINwAAwFIINwAAwFIINwAAwFIINwAAwFIINwAAwFIINwAAwFIINwAAwFIINwAAwFIINwAAwFIa3eMXvOXQybM6cuqckiLDlBwV5utyAABoNAg3Hnb6XKkmLcvWpv0n7W39UqI1d3iqIpoF+7AyAAAaB25LedikZdnaciDfoW3LgXxNXJblo4oAAGhcCDcedOjkWW3af1Llxji0lxujTftPKie/2EeVAQDQeBBuPOjIqXM1fn64gHADAEB9I9x4UGKrZjV+nhTJwGIAAOob4caD2kc3V7+UaAXabA7tgTab+qVEM2sKAAAvINx42NzhqcrsGOXQltkxSnOHp/qoIgAAGhemgntYRLNgLRnXSzn5xTpcUMw6NwAAeBnhpp4kRxFqAADwBW5LAQAASyHcAAAASyHcAAAASyHcAAAASyHcAAAASyHcAAAASyHcAAAASyHcAAAASyHcAAAASyHcAAAAS/FpuJk5c6auvfZatWjRQjExMbrlllu0b9++GvfZsGGDbDZbpdeXX37ppaoBAIA/82m42bhxoyZMmKBPP/1U69atU1lZmQYNGqTi4uJa9923b59yc3Ptr5SUFC9UDAAA/J1PH5y5Zs0ah/eLFi1STEyMdu7cqX79+tW4b0xMjFq2bFmP1QEAgIbIr8bcFBYWSpJatWpV67apqamKi4vTwIEDtX79+mq3KykpUVFRkcMLAABYl9+EG2OMpkyZouuvv17du3evdru4uDi9/PLLWrFihVauXKnOnTtr4MCB2rRpU5Xbz5w5UxEREfZXQkJCff0EAADgB2zGGOPrIiRpwoQJeu+99/TJJ5+obdu2Lu07bNgw2Ww2rV69utJnJSUlKikpsb8vKipSQkKCCgsLFR4eXue6AQBA/SsqKlJERIRT12+/6LmZOHGiVq9erfXr17scbCSpd+/e2r9/f5WfhYSEKDw83OEFAACsy6cDio0xmjhxolatWqUNGzYoOTnZreNkZWUpLi7Ow9UBAICGyKfhZsKECXrjjTf0zjvvqEWLFsrLy5MkRUREqGnTppKkadOm6dixY1qyZIkkac6cOUpKSlK3bt1UWlqq119/XStWrNCKFSt89jsAAID/8Gm4mT9/viSpf//+Du2LFi3SmDFjJEm5ubk6evSo/bPS0lJNnTpVx44dU9OmTdWtWze99957Gjp0qLfKBgAAfsxvBhR7iysDkgAAgH9ocAOKAQAAPIVwAwAALIVwAwAALIVwAwAALIVwAwAALIVwAwAALIVwAwAALIVwAwAALIVwAwAALIVwAwAALIVwAwAALIVwAwAALIVwAwAALIVwAwAALIVwAwAALIVwAwAALIVwAwAALIVwAwAALIVwAwAALIVwAwAALIVwAwAALIVwAwAALIVwAwAALIVwAwAALIVwAwAALIVwAwAALIVwAwAALIVwAwAALIVwAwAALIVwAwAALIVwAwAALIVwAwAALIVwAwAALIVwAwAALIVwAwAALIVwAwAALIVwAwAALIVwAwAALIVwAwAALIVwAwAALIVwAwAALIVwAwAALIVwAwAALIVwAwAALIVwAwAALIVwAwAALIVwAwAALIVwAwAALIVwAwAALIVwAwAALIVwAwAALIVwAwAALMWn4WbmzJm69tpr1aJFC8XExOiWW27Rvn37at1v48aNSktLU2hoqNq3b68FCxZ4oVoAANAQ+DTcbNy4URMmTNCnn36qdevWqaysTIMGDVJxcXG1++Tk5Gjo0KHq27evsrKy9OSTT2rSpElasWKFFysHAAD+ymaMMb4uosLJkycVExOjjRs3ql+/flVu8/jjj2v16tXau3evvW38+PH65z//qW3bttX6HUVFRYqIiFBhYaHCw8M9VjsAAKg/rly//WrMTWFhoSSpVatW1W6zbds2DRo0yKFt8ODB2rFjh86fP19p+5KSEhUVFTm8AACAdflNuDHGaMqUKbr++uvVvXv3arfLy8tTbGysQ1tsbKzKysqUn59fafuZM2cqIiLC/kpISPB47QAAwH/4Tbh56KGHtGvXLi1btqzWbW02m8P7ijtrl7dL0rRp01RYWGh/ff31154pGAAA+KUgXxcgSRMnTtTq1au1adMmtW3btsZtW7durby8PIe2EydOKCgoSJGRkZW2DwkJUUhIiEfrBQAA/sunPTfGGD300ENauXKlPv74YyUnJ9e6T0ZGhtatW+fQtnbtWqWnpys4OLi+SgUAAA2ET8PNhAkT9Prrr+uNN95QixYtlJeXp7y8PH333Xf2baZNm6ZRo0bZ348fP15HjhzRlClTtHfvXr322mtauHChpk6d6oufAAAA/IxPw838+fNVWFio/v37Ky4uzv5avny5fZvc3FwdPXrU/j45OVnvv/++NmzYoKuvvlq//e1v9eKLL+r222/3xU8AAAB+xq/WufEG1rkBAKDhabDr3AAAANQV4QYAAFgK4QYAAFgK4QYAAFgK4QYAAFgK4QYAAFgK4QYAAFgK4QYAAFgK4QYAAFgK4QYAAFgK4QYAAFgK4QYAAFgK4QYAAFgK4QYAAFgK4QYAAFgK4QYAAFgK4QYAAFgK4QYAAFgK4QYAAFgK4QYAAFgK4QYAAFgK4QYAAFgK4QYAAFgK4QYAAFgK4QYAAFgK4QYAAFgK4QYAAFgK4QYAAFgK4QYAAFgK4QYAAFgK4QYAAFgK4QYAAFgK4QYAAFgK4QYAAFgK4QYAAFgK4QYAAFgK4QYAAFgK4QYAAFgK4QYAAFgK4QYAAFgK4QYAAFgK4QYAAFgK4QYAAFgK4QYAAFgK4QYAAFgK4QYAAFgK4QYAAFgK4QYAAFgK4QYAAFgK4QYAAFgK4QYAAFgK4QYAAFiKT8PNpk2bNGzYMMXHx8tms+ntt9+ucfsNGzbIZrNVen355ZfeKRgAAPi9IF9+eXFxsXr27KmxY8fq9ttvd3q/ffv2KTw83P4+Ojq6PsoDAAANkE/DzZAhQzRkyBCX94uJiVHLli09XxAAAGjwGuSYm9TUVMXFxWngwIFav359jduWlJSoqKjI4QUAAKyrQYWbuLg4vfzyy1qxYoVWrlypzp07a+DAgdq0aVO1+8ycOVMRERH2V0JCghcrBgAA3mYzxhhfFyFJNptNq1at0i233OLSfsOGDZPNZtPq1aur/LykpEQlJSX290VFRUpISFBhYaHDuB0AAOC/ioqKFBER4dT1u0H13FSld+/e2r9/f7Wfh4SEKDw83OEFAACsq8GHm6ysLMXFxfm6DAAA4Cd8Olvq7NmzOnDggP19Tk6OsrOz1apVK7Vr107Tpk3TsWPHtGTJEknSnDlzlJSUpG7duqm0tFSvv/66VqxYoRUrVvjqJwAAAD/j03CzY8cODRgwwP5+ypQpkqTRo0dr8eLFys3N1dGjR+2fl5aWaurUqTp27JiaNm2qbt266b333tPQoUO9XjsAAPBPfjOg2FtcGZAEAAD8Q6MaUAwAAHApt8PNX/7yF2VmZio+Pl5HjhyRdHFMzDvvvOOx4gAAAFzlVriZP3++pkyZoqFDh+r06dMqLy+XJLVs2VJz5szxZH0AAAAucSvczJ07V6+88oqeeuopBQYG2tvT09P1r3/9y2PFAQAAuMqtcJOTk6PU1NRK7SEhISouLq5zUQAAAO5yK9wkJycrOzu7UvsHH3ygrl271rUmAAAAt7m1zs0vf/lLTZgwQd9//72MMfr888+1bNkyzZw5U6+++qqnawQAAHCaW+Fm7NixKisr02OPPaZz587pnnvuUZs2bfTCCy/opz/9qadrBAAAcFqdF/HLz8/XhQsXFBMT46ma6hWL+AEA0PC4cv12q+cmJydHZWVlSklJUVRUlL19//79Cg4OVlJSkjuHBQAAqDO3BhSPGTNGW7durdT+2WefacyYMXWtCQAAwG1uhZusrCxlZmZWau/du3eVs6gAAAC8xa1wY7PZdObMmUrthYWF9tWKAQAAfMGtcNO3b1/NnDnTIciUl5dr5syZuv766z1WHAAAgKvcGlD83HPPqV+/furcubP69u0rSdq8ebOKior08ccfe7RAAAAAV7jVc9O1a1ft2rVLd911l06cOKEzZ85o1KhR+vLLL9W9e3dP1wgAAOC0Oq9z09B4c52bQyfP6sipc0qKDFNyVFi9fhcAAFZWL+vc7Nq1S927d1dAQIB27dpV47ZXXXWVs4e1pNPnSjVpWbY27T9pb+uXEq25w1MV0SzYh5UBAGB9TvfcBAQEKC8vTzExMQoICJDNZlNVu9psNr+eMeWNnptRCz/XlgP5Kr/k/ATabMrsGKUl43rVy3cCAGBl9dJzk5OTo+joaPv/RtUOnTzr0GNTodwYbdp/Ujn5xdyiAgCgHjkdbhITEyVJ58+f19NPP61f//rXat++fb0V1lAdOXWuxs8PFxBuAACoTy7PlgoODtaqVavqoxZLSGzVrMbPkyIJNgAA1Ce3poLfeuutevvttz1cijW0j26ufinRCrTZHNoDbTb1S4mm1wYAgHrm1iJ+HTt21G9/+1tt3bpVaWlpCgtzvGBPmjTJI8U1VHOHp2risiyHsTeZHaM0d3iqD6sCAKBxcGudm+Tk5OoPaLPp0KFDdSqqPnlznZuc/GIdLihmnRsAAOqoXmZLXerS2VIV2ch22W0YSMlRhBoAALzNrTE3krRw4UJ1795doaGhCg0NVffu3fXqq696sjYAAACXudVz8+tf/1p//OMfNXHiRGVkZEiStm3bpkceeUSHDx/WjBkzPFokAACAs9wacxMVFaW5c+dq+PDhDu3Lli3TxIkTlZ+f77ECPc2bY24AAIBnuHL9duu2VHl5udLT0yu1p6WlqayszJ1DAgAAeIRb4eZnP/uZ5s+fX6n95Zdf1ogRI+pcFAAAgLvcGnMjXRxQvHbtWvXu3VuS9Omnn+rrr7/WqFGjNGXKFPt2zz//fN2rBAAAcJJb4Wb37t265pprJEkHDx6UJEVHRys6Olq7d++2b8f0cAAA4G1uhZv169d7ug4AAACPcHudGwAAAH9EuAEAAJZCuAEAAJZCuAEAAJZCuAEAAJZCuAEAAJZCuAEAAJZCuAEAAJZCuAEAAJZCuAEAAJZCuAEAAJZCuAEAAJZCuAEAAJZCuAEAAJZCuAEAAJZCuAEAAJZCuAEAAJZCuAEAAJbi03CzadMmDRs2TPHx8bLZbHr77bdr3Wfjxo1KS0tTaGio2rdvrwULFtR/oQAAoMHwabgpLi5Wz5499ac//cmp7XNycjR06FD17dtXWVlZevLJJzVp0iStWLGinisFAAANRZAvv3zIkCEaMmSI09svWLBA7dq105w5cyRJXbp00Y4dOzRr1izdfvvt9VQlAABoSBrUmJtt27Zp0KBBDm2DBw/Wjh07dP78+Sr3KSkpUVFRkcMLAABYV4MKN3l5eYqNjXVoi42NVVlZmfLz86vcZ+bMmYqIiLC/EhISvFEqAADwkQYVbiTJZrM5vDfGVNleYdq0aSosLLS/vv7663qvEQAA+I5Px9y4qnXr1srLy3NoO3HihIKCghQZGVnlPiEhIQoJCfFGeQAAwA80qJ6bjIwMrVu3zqFt7dq1Sk9PV3BwsI+qAgAA/sSn4ebs2bPKzs5Wdna2pItTvbOzs3X06FFJF28pjRo1yr79+PHjdeTIEU2ZMkV79+7Va6+9poULF2rq1Km+KB8AAPghn96W2rFjhwYMGGB/P2XKFEnS6NGjtXjxYuXm5tqDjiQlJyfr/fff1yOPPKKXXnpJ8fHxevHFF5kGDgAA7GymYkRuI1FUVKSIiAgVFhYqPDzc1+UAAAAnuHL9blBjbgAAAGpDuAEAAJZCuAEAAJZCuAEAAJZCuAEAAJZCuAEAAJZCuAEAAJZCuAEAAJZCuAEAAJZCuAEAAJZCuAEAAJZCuAEAAJZCuAEAAJZCuAEAAJZCuAEAAJZCuAEAAJZCuAEAAJZCuAEAAJZCuAEAAJZCuAEAAJZCuAEAAJZCuAEAAJZCuAEAAJZCuAEAAJZCuAEAAJZCuAEAAJZCuAEAAJYS5OsCcNGhk2d15NQ5JUWGKTkqzNflAADQYBFufOz0uVJNWpatTftP2tv6pURr7vBURTQL9mFlAAA0TNyW8rFJy7K15UC+Q9uWA/mauCzLRxUBANCwEW586NDJs9q0/6TKjXFoLzdGm/afVE5+sY8qAwCg4SLc+NCRU+dq/PxwAeEGAABXEW58KLFVsxo/T4pkYDEAAK4i3PhQ++jm6pcSrUCbzaE90GZTv5RoZk0BAOAGwo2PzR2eqsyOUQ5tmR2jNHd4qo8qAgCgYWMquI9FNAvWknG9lJNfrMMFxaxzAwBAHRFu/ERyFKEGAABP4LYUAACwFMINAACwFMINAACwFMINAACwFMINAACwFMINAACwFMINAACwFMINAACwFMINAACwFMINAACwFMINAACwFMINAACwFMINAACwFMINAACwFMINAACwFJ+Hm3nz5ik5OVmhoaFKS0vT5s2bq912w4YNstlslV5ffvmlFysGAAD+zKfhZvny5Xr44Yf11FNPKSsrS3379tWQIUN09OjRGvfbt2+fcnNz7a+UlBQvVQwAAPydT8PN888/r3Hjxum+++5Tly5dNGfOHCUkJGj+/Pk17hcTE6PWrVvbX4GBgV6qGAAA+DufhZvS0lLt3LlTgwYNcmgfNGiQtm7dWuO+qampiouL08CBA7V+/fr6LBMAADQwQb764vz8fJWXlys2NtahPTY2Vnl5eVXuExcXp5dffllpaWkqKSnRX/7yFw0cOFAbNmxQv379qtynpKREJSUl9vdFRUWe+xEAAMDv+CzcVLDZbA7vjTGV2ip07txZnTt3tr/PyMjQ119/rVmzZlUbbmbOnKlnnnnGcwW76NDJszpy6pySIsOUHBXmszoAAGgsfBZuoqKiFBgYWKmX5sSJE5V6c2rSu3dvvf7669V+Pm3aNE2ZMsX+vqioSAkJCa4X7KLT50o1aVm2Nu0/aW/rlxKtucNTFdEsuN6/HwCAxspnY26aNGmitLQ0rVu3zqF93bp16tOnj9PHycrKUlxcXLWfh4SEKDw83OHlDZOWZWvLgXyHti0H8jVxWZakiz066/edUE5+sVfqAQCgsfDpbakpU6Zo5MiRSk9PV0ZGhl5++WUdPXpU48ePl3Sx1+XYsWNasmSJJGnOnDlKSkpSt27dVFpaqtdff10rVqzQihUrfPkzKjl08qxDj02FcmO0af9J3blgq7Yf/tbeTo8OAACe49Nwc/fdd6ugoEC/+c1vlJubq+7du+v9999XYmKiJCk3N9dhzZvS0lJNnTpVx44dU9OmTdWtWze99957Gjp0qK9+QpWOnDpX4+c7j3zr8L6iR2fJuF71WRYAAI2CzRhjfF2ENxUVFSkiIkKFhYX1dovq0Mmz+sHsjS7vt35qfwYdAwBQBVeu3z5//IIVtY9urn4p0Qq8bNZXbSf7cAHjbwAAqCvCTT2ZOzxVmR2jHNquSbyixn2SIum1AQCgrny+zo1VRTQL1pJxvZSTX6zDBcX2dW5GLfxcWw7kq/ySu4GBNpsyO0ZxSwoAAA+g56aeJUeFaUDnGHtwqapHJ7NjlOYOT/VFeQAAWA49N15WXY8OAADwDMKNjyRHVR9qeGQDAADuI9z4SFUBhkc2AABQd4QbL6spwNT0yAYW+AMAwDkMKPay6gLMuD9v16b9Jx1mUUn/fWQDz6ACAMA5hBsvqnjmVFUBZsdlj2S4HAv8AQDgHMKNF9X2zKmasMAfAADOIdx4UWKrZjV+fm3SFZUe2RBos6lfSjSzpgAAcBLhpp4cOnlW6/edcBgrU90zpyoCzKujrmWBPwAA6oingntYbdO5C8+d18RlWTVO92aBPwAAHLly/SbceFhVz44KkNQ1Plxz77nGHlYIMAAAOM+V6zfr3HhQxWyoy12QtPt4kQbM2mDvpalphWIAAOA+xtx4kDOzoT7Zf1ITl2XV+buqGtMDAADoufGo2mZDSRd7cSoW5XOn54ZHNAAAUDN6bjyoYjaUMyf100MFbn1HTY9oAAAAhBuPmzs8VV3jax+oPG3lvzRq4ecqPHfe6WPXtMIxj2gAAOAiwo0HHTp5Vmu+yHU6ZGzef1L3Ldnu9PFrG9PDIxoAAGDMjUdUNQ7GGUbS9sPf6s75W/Xq6GtrHTNT25geHtEAAAA9Nx5R1TgYV+w88q1TY2ZqW+GYqeUAABBu6qy6cTCuuHQGVW3mDk/lEQ0AANSA21J1VJcnfV/ucEHt08MjmgVrybheXl3h+NDJszpy6hyrKTuBcwUAvke4qSNn1rZxlitjZryxwjFr6jiPcwUA/oPbUnVkX9vGVvu21fHXMTOsqeM8zhUA+A/CjQfMHZ6qtMQr3N7/mnYt/W7MDGvqOI9zBQD+hXDjARHNgvXs7Ve5vf/2/8yWcmVBv/rGmjrO41wBgH8h3HjIZznuPU6hwif7T+q+Pzu/oJ+nXf4gTtbUcR7nCgD8CwOKPaYOg250cTr49iPf6s4FW/XqKMcF/epzBk5NA2H7pURry4F8h9stgTabMjtG+d34IF+qGHfFuQIA/0DPjYcUnCnxyHEuXdDv9LlSjVr4uX4we6PGLtquAbM2uPw8qtrUNBCWNXWcx7kCAP9Bz42H7Mkr8shxLpj/Lug3/Z0vqg0eS8b1qnOPTsVA2MtVDIQ9da7U62vqNFS+WH8IAFA1wo2HfJnrmXBT4dNDBTUGjzvnb9X2I9/a29MTr9DYPknq2ibC6YuqMwNhK9bT8cSF2hsL3Pl6ET1vrD8EAKgZ4cYDDp08q0P5nlupWKp9BM/OS4KNJO048q12/KfN2cXjvDUQ1hsL3LGIHgCgAmNuPOCznFMePV5KTHPV9qSqCzV85uzicd56EKc3FrhjET0AQAXCjUe4/9DMquw/cVbTVv6rys+cWQnZlcXjHh3USV3iWji0eXIgrDcWuGMRPQDApbgt5QHxEU299l1piVdo++Fva99Q1T+I89DJs/oit0hLth52OFb3NuH63a09dFXblp4q1+lxPf7+HQCAhoNw4wEb9lUe+FtfmgYHKaN9pD7POVWpp+Jyl4+ZqWpcyqX2Hj+jWR9+pSXjetnb6jpAt77G9Rw6efY/Cyfa1KZlzeEy0GbT+n0nmMEEAI0E4cYD3t993GvftWn/SbVpGaqu8S30r2OuzdC6OC6l+iB26W2cK5oF1zhA19nQ0z66ufp0iNTWg5VXcO7TIdLlsHH6XKkeXPqPSseLaBqks9+XqfySvBegi1O0R732eZW/AQBgTYQbDyg6V+bV7zt2+nsdO/29mjUJ0LnS6ocWX3o7pro1barbb/o7h6scoPuLpTsVFBDg0qyk6jqYaul4qtKkZdlVBqXC78p0RbNgfXvJAocRzYJV9J3jgoeXrhPkCl9PMQcAOI9w4wGBzozyrQc1BRtJmrf+gK5JuEIFxSV6d5fzvUuBNlW7xs7WgwWVRqHXFBgOnTyrbYeqfu7WtkMFysl3HA9TXYi4eBvqVI0B7dtz5/WHO65SVIsQBdpsDj02l/6Git4pY0ytgYUp5gDQ8BBuPKC4tNzXJVRp55FvlfnsRzpb4lx9NkkdY5rr+Onva9zu8kh1aWC4PCQ4O9i3uhDxQL/2mvnBXu0+7twtuF/+bZf6pUTr7vS2NW438Y1/OByzusBS0xRzV3t/gMvRIwjUD8JNHR06edbDE8FdZ1PVk9EvGDkdbPSfY+w/cVZPVDMNvTaX3wY7cuqcThTVHJQqBhRXFSI27T/p9K20S205kK9zpTXfKtxzWViqKrDU9niKqsIc4Ax6BIH6Rbipo9p6JrzB1+Gqwr8Lv9c/v/5Ws9fudyqUXNEsWK2aNdHGfSfcCjHVKTdGO458q/DQIBV9X3XIcab3iSnmnkdPxUX0CAL1i3BTR7VNdW5MXO3xKfzuvPrPWu8wCNiTzlQTbGpyaWCpj2nsjfXiTk/Ff9EjCNQ/wk0dvb8r19clNFgXjOot2Eju9WgFXTI4vFVYk0ozsKSLA64zO7r2eIrGfnGnp+K/6BGE1fnDP+IIN3X0l08P+7oEeNDIhZ/bQ8ekZdkqrCJ8hTcNdvnxFA394l6Xv6zoqXDkrQfWAt7mT/+II9zU0b/PlPq6BHjYlgP5um/J9mofc/HtufM6da7U6f9YG/LF3RN/WdFT4ajigbVbDuQ7rDIeaLMps2NUozoXsBZ/+kccD84ELlNuTK3P7zpc4PzDOJ25uPuTQyfPav2+E8rJL/bI09bpqahs7vBUZXaMcmjz5ANrAW/ztwcY03MDuMGVC7IvLu7u3Eaq7dljFVztcaKnorKIZsFaMq6XcvKLdbiguNENMIf1+FsPLeEGqMa1iVfoH0dPu3RBripUePPiXpfbSFX10tTElb+s5g5P1cRlWQ510VMhJUcRamAN/tZDS7iBV1ybdIX+ccQxKFS3+KC32WyOz7mqCB2uXJBrCxXeuri7e8/blWePVQhy4bEj9FQA1uZvPbQ+H3Mzb948JScnKzQ0VGlpadq8eXON22/cuFFpaWkKDQ1V+/bttWDBAi9Viqo4e4Eb3Sep0hiDbm3C66Mkl6UnXuHwviJ0VFyQ10/tr0Vjr9X6qf21ZFyvKntAahub4sqx3FWXe97uLEZZdsH1aJocFaYBnWMINoAF+dNYMp/23CxfvlwPP/yw5s2bp8zMTP3f//2fhgwZoj179qhdu3aVts/JydHQoUN1//336/XXX9eWLVv04IMPKjo6WrfffrsPfkHj1iM+XK/f11unzpXq00MFmlbDIn7d4iO0ZFx8pX+595i+RmdqeUREgKQWTYNVeNkTvl3RIiRIZ0oqL+qX0T5Sy37eu8YehdpuHbgyG6o+b0PU5Z63O4tRNsaBwACq5089tD7tuXn++ec1btw43XffferSpYvmzJmjhIQEzZ8/v8rtFyxYoHbt2mnOnDnq0qWL7rvvPt17772aNWuWlyv/r5BA3zwR3B9MGdxZEc2ClRwVpuG92qlfSrQCbY7nI9BmU7+UaIeL+6X/cu8SF1Hr91yfEq1Nvxyg9VP7a/qwrkqJdfyP5dqkK/Sne1J1beIV1X7/J4//QNde1kPTLyVaC36WVmVdrvCX2VB1uedd0aV8+fmryuX/nwLApfyhh9ZnPTelpaXauXOnnnjiCYf2QYMGaevWrVXus23bNg0aNMihbfDgwVq4cKHOnz+v4ODKXfwlJSUqKSmxvy8qcu7p0s764OF++sHsjR49Zn25um1LZX9z2mPHu/xi6eq4kkMnz+rzw6eqPf7//LiLBlwZa/8P5GKQStbYzOQq/2XQt2N0td8f0SxYb/2iT738i8JfBtLV9Z53Vf//9ekQKWOkbYcK7G0MBAbg73wWbvLz81VeXq7Y2FiH9tjYWOXl5VW5T15eXpXbl5WVKT8/X3FxcZX2mTlzpp555hnPFX6Z9tHNFRoUoO/LLn8Uo/94dFAn/fiqeCVHhWnUws8rXfyqEmCT0hKvUNPgIKcvlq52SdbW45Ec3bza/au6vePM99fHbSF/GkhXl4HLNZ0/f+hmBgBn+Xy2lO2ybnBjTKW22ravqr3CtGnTNGXKFPv7oqIiJSQkuFtulZY/0Fs/eanq3iZfqri4TvxBir2tqotfRvtIfV9Wrqyjp+1t13eMtl8QXb1YOhsg6qvHwxfTa/1lqrMn7nlXdf6YsgygIfFZuImKilJgYGClXpoTJ05U6p2p0Lp16yq3DwoKUmRkZJX7hISEKCQkxDNFV6NnwhXqldSqxlss1amYbHTpxBObTeoWH66mwYGVpk9XBBZJtfbAVHVxdedf5/U1QMyfejzqyp8G0kmEEQCNm8/CTZMmTZSWlqZ169bp1ltvtbevW7dOP/nJT6rcJyMjQ++++65D29q1a5Wenl7leBtvemVUun48d7O+/vY7p/cJDwnSmz/vrd+v2efwL/6+TvaaXP5Zv5RoTR3cSQXFpbVeXF3913l9XSz9pcfDUwgVAOB7NmNqGXxRj5YvX66RI0dqwYIFysjI0Msvv6xXXnlFX3zxhRITEzVt2jQdO3ZMS5YskXRxKnj37t31wAMP6P7779e2bds0fvx4LVu2zOmp4EVFRYqIiFBhYaHCwz2/zkpOfrFGL/xMRy8JOc2bBCgpMkznzl/Q+fIL6hLXQiMzktQ3Jdphv+r+xe/uZw2JVX4HAKB+uHL99mm4kS4u4vfcc88pNzdX3bt31x//+Ef169dPkjRmzBgdPnxYGzZssG+/ceNGPfLII/riiy8UHx+vxx9/XOPHj3f6++o73AAAAM9rUOHG2wg3AAA0PK5cv33++AUAAABPItwAAABLIdwAAABLIdwAAABLIdwAAABLIdwAAABLIdwAAABLIdwAAABLIdwAAABL8dmDM32lYkHmoqIiH1cCAACcVXHddubBCo0u3Jw5c0aSlJCQ4ONKAACAq86cOaOIiIgat2l0z5a6cOGCjh8/rhYtWshms3n02EVFRUpISNDXX3/Nc6s8gPPpWZxPz+J8ehbn07OseD6NMTpz5ozi4+MVEFDzqJpG13MTEBCgtm3b1ut3hIeHW+YPkz/gfHoW59OzOJ+exfn0LKudz9p6bCowoBgAAFgK4QYAAFgK4caDQkJCNH36dIWEhPi6FEvgfHoW59OzOJ+exfn0rMZ+PhvdgGIAAGBt9NwAAABLIdwAAABLIdwAAABLIdwAAABLIdy4YN68eUpOTlZoaKjS0tK0efPmGrffuHGj0tLSFBoaqvbt22vBggVeqrRhcOV8rly5UjfddJOio6MVHh6ujIwMffjhh16s1v+5+uezwpYtWxQUFKSrr766fgtsYFw9nyUlJXrqqaeUmJiokJAQdejQQa+99pqXqvV/rp7PpUuXqmfPnmrWrJni4uI0duxYFRQUeKla/7Zp0yYNGzZM8fHxstlsevvtt2vdp9Fdjwyc8uabb5rg4GDzyiuvmD179pjJkyebsLAwc+TIkSq3P3TokGnWrJmZPHmy2bNnj3nllVdMcHCw+dvf/ublyv2Tq+dz8uTJ5tlnnzWff/65+eqrr8y0adNMcHCw+cc//uHlyv2Tq+ezwunTp0379u3NoEGDTM+ePb1TbAPgzvm8+eabzXXXXWfWrVtncnJyzGeffWa2bNnixar9l6vnc/PmzSYgIMC88MIL5tChQ2bz5s2mW7du5pZbbvFy5f7p/fffN0899ZRZsWKFkWRWrVpV4/aN8XpEuHFSr169zPjx4x3arrzySvPEE09Uuf1jjz1mrrzySoe2Bx54wPTu3bveamxIXD2fVenatat55plnPF1ag+Tu+bz77rvNr371KzN9+nTCzSVcPZ8ffPCBiYiIMAUFBd4or8Fx9Xz+4Q9/MO3bt3doe/HFF03btm3rrcaGyplw0xivR9yWckJpaal27typQYMGObQPGjRIW7durXKfbdu2Vdp+8ODB2rFjh86fP19vtTYE7pzPy124cEFnzpxRq1at6qPEBsXd87lo0SIdPHhQ06dPr+8SGxR3zufq1auVnp6u5557Tm3atFGnTp00depUfffdd94o2a+5cz779Omjb775Ru+//76MMfr3v/+tv/3tb/rRj37kjZItpzFejxrdgzPdkZ+fr/LycsXGxjq0x8bGKi8vr8p98vLyqty+rKxM+fn5iouLq7d6/Z075/Nys2fPVnFxse666676KLFBced87t+/X0888YQ2b96soCD+GriUO+fz0KFD+uSTTxQaGqpVq1YpPz9fDz74oE6dOtXox924cz779OmjpUuX6u6779b333+vsrIy3XzzzZo7d643Sracxng9oufGBTabzeG9MaZSW23bV9XeWLl6PissW7ZMTz/9tJYvX66YmJj6Kq/BcfZ8lpeX65577tEzzzyjTp06eau8BseVP58XLlyQzWbT0qVL1atXLw0dOlTPP/+8Fi9eTO/Nf7hyPvfs2aNJkybpf/7nf7Rz506tWbNGOTk5Gj9+vDdKtaTGdj3in2xOiIqKUmBgYKV/ZZw4caJSGq7QunXrKrcPCgpSZGRkvdXaELhzPissX75c48aN01tvvaUbb7yxPstsMFw9n2fOnNGOHTuUlZWlhx56SNLFi7MxRkFBQVq7dq1+8IMfeKV2f+TOn8+4uDi1adNGERER9rYuXbrIGKNvvvlGKSkp9VqzP3PnfM6cOVOZmZn65S9/KUm66qqrFBYWpr59+2rGjBmW7GmoT43xekTPjROaNGmitLQ0rVu3zqF93bp16tOnT5X7ZGRkVNp+7dq1Sk9PV3BwcL3V2hC4cz6liz02Y8aM0RtvvMG990u4ej7Dw8P1r3/9S9nZ2fbX+PHj1blzZ2VnZ+u6667zVul+yZ0/n5mZmTp+/LjOnj1rb/vqq68UEBCgtm3b1mu9/s6d83nu3DkFBDhengIDAyX9t8cBzmuU1yMfDWRucCqmMi5cuNDs2bPHPPzwwyYsLMwcPnzYGGPME088YUaOHGnfvmLq3SOPPGL27NljFi5caPmpd65w9Xy+8cYbJigoyLz00ksmNzfX/jp9+rSvfoJfcfV8Xo7ZUo5cPZ9nzpwxbdu2NXfccYf54osvzMaNG01KSoq57777fPUT/Iqr53PRokUmKCjIzJs3zxw8eNB88sknJj093fTq1ctXP8GvnDlzxmRlZZmsrCwjyTz//PMmKyvLPrWe6xFTwV3y0ksvmcTERNOkSRNzzTXXmI0bN9o/Gz16tLnhhhsctt+wYYNJTU01TZo0MUlJSWb+/Plerti/uXI+b7jhBiOp0mv06NHeL9xPufrn81KEm8pcPZ979+41N954o2natKlp27atmTJlijl37pyXq/Zfrp7PF1980XTt2tU0bdrUxMXFmREjRphvvvnGy1X7p/Xr19f49yHXI2NsxtDHBwAArIMxNwAAwFIINwAAwFIINwAAwFIINwAAwFIINwAAwFIINwAAwFIINwAAwFIINwAaFGOMfv7zn6tVq1ay2WzKzs52+RhPP/20rr76ao/XBjR2mzZt0rBhwxQfHy+bzaa3337b5WMYYzRr1ix16tRJISEhSkhI0O9+9zuXjkG4AdCgrFmzRosXL9bf//535ebmqnv37m7/Jeqsw4cPux2kgMakuLhYPXv21J/+9Ce3jzF58mS9+uqrmjVrlr788ku9++676tWrl0vH4KngABqUgwcPKi4ursaHrALwjSFDhmjIkCHVfl5aWqpf/epXWrp0qU6fPq3u3bvr2WefVf/+/SVJe/fu1fz587V792517tzZ7TrouQHgdX/729/Uo0cPNW3aVJGRkbrxxhtVXFys8vJyTZkyRS1btlRkZKQee+wxjR49WrfccoskacyYMZo4caKOHj0qm82mpKQkJSUlSZJuvfVWe5urLly4oN/85jdq27atQkJCdPXVV2vNmjX2z5OTkyVJqampstls9r+IAbhm7Nix2rJli958803t2rVLd955p374wx9q//79kqR3331X7du319///nclJycrKSlJ9913n06dOuXS9xBuAHhVbm6uhg8frnvvvVd79+7Vhg0bdNttt8kYo9mzZ+u1117TwoUL9cknn+jUqVNatWqVfd8XXnjBHkJyc3O1fft2bd++XZK0aNEie5urXnjhBc2ePVuzZs3Srl27NHjwYN188832v3A///xzSdL/+3//T7m5uVq5cqUHzgTQuBw8eFDLli3TW2+9pb59+6pDhw6aOnWqrr/+ei1atEiSdOjQIR05ckRvvfWWlixZosWLF2vnzp264447XPoubksB8Krc3FyVlZXptttuU2JioiSpR48ekqQ5c+Zo2rRpuv322yVJCxYs0IcffmjfNyIiQi1atFBgYKBat27tcNyWLVtWanPWrFmz9Pjjj+unP/2pJOnZZ5/V+vXrNWfOHL300kuKjo6WJEVGRrr9HUBj949//EPGGHXq1MmhvaSkRJGRkZIu9qKWlJRoyZIl9u0WLlyotLQ07du3z+lbVYQbAF7Vs2dPDRw4UD169NDgwYM1aNAg3XHHHQoICFBubq4yMjLs2wYFBSk9PV3GmHqrp6ioSMePH1dmZqZDe2Zmpv75z3/W2/cCjc2FCxcUGBionTt3KjAw0OGz5s2bS5Li4uIUFBTkEIC6dOkiSTp69KjT4YbbUgC8KjAwUOvWrdMHH3ygrl27au7cuercubMOHz7s07psNpvDe2NMpTYA7ktNTVV5eblOnDihjh07OrwqekQzMzNVVlamgwcP2vf76quvJMne0+sMwg0Ar7PZbMrMzNQzzzyjrKwsNWnSRB999JHi4uL06aef2rcrKyvTzp07az1ecHCwysvL3aolPDxc8fHx+uSTTxzat27dav8XY5MmTSTJ7e8AGouzZ88qOzvbvmxCTk6OsrOzdfToUXXq1EkjRozQqFGjtHLlSuXk5Gj79u169tln9f7770uSbrzxRl1zzTW69957lZWVpZ07d+qBBx7QTTfdVOl2Vk24LQXAqz777DN99NFHGjRokGJiYvTZZ5/p5MmT6tKliyZPnqzf//73SklJUZcuXfT888/r9OnTtR4zKSlJH330kTIzMxUSEqIrrrjCpZp++ctfavr06erQoYOuvvpqLVq0SNnZ2Vq6dKkkKSYmRk2bNtWaNWvUtm1bhYaGKiIiwp2fD1jajh07NGDAAPv7KVOmSJJGjx6txYsXa9GiRZoxY4YeffRRHTt2TJGRkcrIyNDQoUMlSQEBAXr33Xc1ceJE9evXT2FhYRoyZIhmz57tWiEGALxoz549ZvDgwSY6OtqEhISYTp06mblz5xpjjDl//ryZPHmyCQ8PNy1btjRTpkwxo0aNMj/5yU/s+//xj380iYmJDsdcvXq16dixowkKCqr0WVWmT59uevbsaX9fXl5unnnmGdOmTRsTHBxsevbsaT744AOHfV555RWTkJBgAgICzA033ODmrwfgDTZj6nGkHgDU0ZgxY3T69Ol6XYEYgLUw5gYAAFgK4QaA5XTr1k3Nmzev8lUxjgaAdXFbCoDlHDlyROfPn6/ys9jYWLVo0cLLFQHwJsINAACwFG5LAQAASyHcAAAASyHcAAAASyHcAAAASyHcAAAASyHcAAAASyHcAAAASyHcAAAAS/n/b7sF/sxehhoAAAAASUVORK5CYII=\n",
      "text/plain": [
       "<Figure size 640x480 with 1 Axes>"
      ]
     },
     "metadata": {},
     "output_type": "display_data"
    }
   ],
   "source": [
    "df1.plot(x=\"sqft_lot\", y =\"price\", title ='Sqft_lot vs Price', kind = 'scatter')\n"
   ]
  },
  {
   "cell_type": "markdown",
   "id": "8f71460a-70ee-43d9-8dc8-ce5f3d32b536",
   "metadata": {},
   "source": [
    "## Line_Plot"
   ]
  },
  {
   "cell_type": "code",
   "execution_count": 44,
   "id": "819bad4a-5199-40d3-ae6b-1a529448d5cb",
   "metadata": {},
   "outputs": [
    {
     "data": {
      "image/png": "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\n",
      "text/plain": [
       "<Figure size 640x480 with 1 Axes>"
      ]
     },
     "metadata": {},
     "output_type": "display_data"
    }
   ],
   "source": [
    "x = df['bathrooms']\n",
    "y = df['price']\n",
    "#creating the plot\n",
    "df.plot(x=\"bathrooms\", y =\"price\", title ='bathrooms vs price', kind = 'line')\n",
    "\n",
    "#function to show or display the plot\n",
    "plt.show()"
   ]
  },
  {
   "cell_type": "markdown",
   "id": "f961282b-2257-45fc-9b8a-d1a564ed7cfd",
   "metadata": {},
   "source": [
    "### Correlation matrix"
   ]
  },
  {
   "cell_type": "code",
   "execution_count": 45,
   "id": "9f50e021-4e75-484e-a388-bd15fbcf365f",
   "metadata": {},
   "outputs": [
    {
     "data": {
      "image/png": "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\n",
      "text/plain": [
       "<Figure size 640x480 with 2 Axes>"
      ]
     },
     "metadata": {},
     "output_type": "display_data"
    }
   ],
   "source": [
    "df.corr()\n",
    "sns.heatmap(df.corr())\n",
    "df.plot.tittle= 'Correlation Plot'\n",
    "plt.show()"
   ]
  },
  {
   "cell_type": "markdown",
   "id": "97875816-1535-464c-9617-915cab2a81e0",
   "metadata": {},
   "source": [
    "## 4. Clean your dataset if necessary by removing nans, etc."
   ]
  },
  {
   "cell_type": "markdown",
   "id": "a6ef2c74-a344-4206-8df9-bea7e786e648",
   "metadata": {},
   "source": [
    "### Dropping all non- numerical "
   ]
  },
  {
   "cell_type": "code",
   "execution_count": 46,
   "id": "dcdca542-d901-4cf4-97fd-958dc7fdc555",
   "metadata": {},
   "outputs": [],
   "source": [
    "df_numerical = df.select_dtypes(include=[np.number])"
   ]
  },
  {
   "cell_type": "code",
   "execution_count": 47,
   "id": "595543a5-cca2-46f8-82a7-09e920f637f6",
   "metadata": {},
   "outputs": [
    {
     "name": "stdout",
     "output_type": "stream",
     "text": [
      "             price  bedrooms  bathrooms  sqft_living  sqft_lot  floors  \\\n",
      "0     3.130000e+05       3.0       1.50         1340      7912     1.5   \n",
      "1     2.384000e+06       5.0       2.50         3650      9050     2.0   \n",
      "2     3.420000e+05       3.0       2.00         1930     11947     1.0   \n",
      "3     4.200000e+05       3.0       2.25         2000      8030     1.0   \n",
      "4     5.500000e+05       4.0       2.50         1940     10500     1.0   \n",
      "...            ...       ...        ...          ...       ...     ...   \n",
      "4595  3.081667e+05       3.0       1.75         1510      6360     1.0   \n",
      "4596  5.343333e+05       3.0       2.50         1460      7573     2.0   \n",
      "4597  4.169042e+05       3.0       2.50         3010      7014     2.0   \n",
      "4598  2.034000e+05       4.0       2.00         2090      6630     1.0   \n",
      "4599  2.206000e+05       3.0       2.50         1490      8102     2.0   \n",
      "\n",
      "      sqft_above  sqft_basement  \n",
      "0           1340              0  \n",
      "1           3370            280  \n",
      "2           1930              0  \n",
      "3           1000           1000  \n",
      "4           1140            800  \n",
      "...          ...            ...  \n",
      "4595        1510              0  \n",
      "4596        1460              0  \n",
      "4597        3010              0  \n",
      "4598        1070           1020  \n",
      "4599        1490              0  \n",
      "\n",
      "[4600 rows x 8 columns]\n"
     ]
    }
   ],
   "source": [
    "print(df_numerical)"
   ]
  },
  {
   "cell_type": "code",
   "execution_count": 48,
   "id": "fef41163-2e9f-4fa4-a862-cc6ce454d024",
   "metadata": {},
   "outputs": [
    {
     "data": {
      "text/plain": [
       "price            0\n",
       "bedrooms         0\n",
       "bathrooms        0\n",
       "sqft_living      0\n",
       "sqft_lot         0\n",
       "floors           0\n",
       "sqft_above       0\n",
       "sqft_basement    0\n",
       "dtype: int64"
      ]
     },
     "execution_count": 48,
     "metadata": {},
     "output_type": "execute_result"
    }
   ],
   "source": [
    "df.isnull().sum()"
   ]
  },
  {
   "cell_type": "markdown",
   "id": "bd1cf27a-eace-44f4-b7dc-e16ff046ee40",
   "metadata": {},
   "source": [
    "### Separate independent and dependent variables\n",
    "* Independent variables: All except price\n",
    "* Dependent variable: price"
   ]
  },
  {
   "cell_type": "code",
   "execution_count": 49,
   "id": "38076f19-8a2f-4e95-9c13-26f1741db65a",
   "metadata": {},
   "outputs": [],
   "source": [
    "X = df_numerical.drop(\"price\", axis = 1)\n",
    "y = df_numerical[\"price\"]"
   ]
  },
  {
   "cell_type": "markdown",
   "id": "42e6a604-2115-4b78-90c8-526de25f9caf",
   "metadata": {},
   "source": [
    "## 5. Divide your data into training and test sets (70:30)\n"
   ]
  },
  {
   "cell_type": "code",
   "execution_count": 50,
   "id": "5a0d48e8-7dc9-4bfe-946d-639318e1de64",
   "metadata": {},
   "outputs": [],
   "source": [
    "# 70% training set, 30% test set\n",
    "X_train, X_test, y_train, y_test = train_test_split(X, y, test_size=0.30, random_state=2)"
   ]
  },
  {
   "cell_type": "markdown",
   "id": "3f9e0546-29a1-4dcc-bb81-1381c8b8ddb7",
   "metadata": {},
   "source": [
    "## 6. Perform standardization (if necessary)\n"
   ]
  },
  {
   "cell_type": "code",
   "execution_count": 51,
   "id": "cc47f20a-4ca7-4b07-8163-9911691e3945",
   "metadata": {},
   "outputs": [
    {
     "data": {
      "text/plain": [
       "array([[0.33333333, 0.1875    , 0.07365224, ..., 0.2       , 0.10730088,\n",
       "        0.        ],\n",
       "       [0.55555556, 0.3125    , 0.24905087, ..., 0.4       , 0.33185841,\n",
       "        0.05809129],\n",
       "       [0.33333333, 0.25      , 0.11845103, ..., 0.        , 0.17256637,\n",
       "        0.        ],\n",
       "       ...,\n",
       "       [0.33333333, 0.3125    , 0.20045558, ..., 0.4       , 0.2920354 ,\n",
       "        0.        ],\n",
       "       [0.44444444, 0.25      , 0.13059985, ..., 0.        , 0.07743363,\n",
       "        0.21161826],\n",
       "       [0.33333333, 0.3125    , 0.08504176, ..., 0.4       , 0.12389381,\n",
       "        0.        ]])"
      ]
     },
     "execution_count": 51,
     "metadata": {},
     "output_type": "execute_result"
    }
   ],
   "source": [
    "min_max_scaler = MinMaxScaler()\n",
    "X_scaled = min_max_scaler.fit_transform(X)\n",
    "X_scaled"
   ]
  },
  {
   "cell_type": "code",
   "execution_count": null,
   "id": "64cd0cb6-f737-4564-a7f2-11a3bfcccab1",
   "metadata": {},
   "outputs": [],
   "source": []
  },
  {
   "cell_type": "markdown",
   "id": "8566338d-ac36-4f18-9320-701bb72e400f",
   "metadata": {},
   "source": [
    "## 7. Fit the model to your training data\n"
   ]
  },
  {
   "cell_type": "code",
   "execution_count": 52,
   "id": "b534f5a3-dbae-4f90-a5a8-03bcf9754813",
   "metadata": {},
   "outputs": [],
   "source": [
    "# Instantiate LinearRegression model\n",
    "LR = LinearRegression()"
   ]
  },
  {
   "cell_type": "code",
   "execution_count": 53,
   "id": "d3b0163c-6a0b-45a8-8cf3-0b2f780cbff6",
   "metadata": {},
   "outputs": [
    {
     "data": {
      "text/html": [
       "<style>#sk-container-id-2 {color: black;background-color: white;}#sk-container-id-2 pre{padding: 0;}#sk-container-id-2 div.sk-toggleable {background-color: white;}#sk-container-id-2 label.sk-toggleable__label {cursor: pointer;display: block;width: 100%;margin-bottom: 0;padding: 0.3em;box-sizing: border-box;text-align: center;}#sk-container-id-2 label.sk-toggleable__label-arrow:before {content: \"▸\";float: left;margin-right: 0.25em;color: #696969;}#sk-container-id-2 label.sk-toggleable__label-arrow:hover:before {color: black;}#sk-container-id-2 div.sk-estimator:hover label.sk-toggleable__label-arrow:before {color: black;}#sk-container-id-2 div.sk-toggleable__content {max-height: 0;max-width: 0;overflow: hidden;text-align: left;background-color: #f0f8ff;}#sk-container-id-2 div.sk-toggleable__content pre {margin: 0.2em;color: black;border-radius: 0.25em;background-color: #f0f8ff;}#sk-container-id-2 input.sk-toggleable__control:checked~div.sk-toggleable__content {max-height: 200px;max-width: 100%;overflow: auto;}#sk-container-id-2 input.sk-toggleable__control:checked~label.sk-toggleable__label-arrow:before {content: \"▾\";}#sk-container-id-2 div.sk-estimator input.sk-toggleable__control:checked~label.sk-toggleable__label {background-color: #d4ebff;}#sk-container-id-2 div.sk-label input.sk-toggleable__control:checked~label.sk-toggleable__label {background-color: #d4ebff;}#sk-container-id-2 input.sk-hidden--visually {border: 0;clip: rect(1px 1px 1px 1px);clip: rect(1px, 1px, 1px, 1px);height: 1px;margin: -1px;overflow: hidden;padding: 0;position: absolute;width: 1px;}#sk-container-id-2 div.sk-estimator {font-family: monospace;background-color: #f0f8ff;border: 1px dotted black;border-radius: 0.25em;box-sizing: border-box;margin-bottom: 0.5em;}#sk-container-id-2 div.sk-estimator:hover {background-color: #d4ebff;}#sk-container-id-2 div.sk-parallel-item::after {content: \"\";width: 100%;border-bottom: 1px solid gray;flex-grow: 1;}#sk-container-id-2 div.sk-label:hover label.sk-toggleable__label {background-color: #d4ebff;}#sk-container-id-2 div.sk-serial::before {content: \"\";position: absolute;border-left: 1px solid gray;box-sizing: border-box;top: 0;bottom: 0;left: 50%;z-index: 0;}#sk-container-id-2 div.sk-serial {display: flex;flex-direction: column;align-items: center;background-color: white;padding-right: 0.2em;padding-left: 0.2em;position: relative;}#sk-container-id-2 div.sk-item {position: relative;z-index: 1;}#sk-container-id-2 div.sk-parallel {display: flex;align-items: stretch;justify-content: center;background-color: white;position: relative;}#sk-container-id-2 div.sk-item::before, #sk-container-id-2 div.sk-parallel-item::before {content: \"\";position: absolute;border-left: 1px solid gray;box-sizing: border-box;top: 0;bottom: 0;left: 50%;z-index: -1;}#sk-container-id-2 div.sk-parallel-item {display: flex;flex-direction: column;z-index: 1;position: relative;background-color: white;}#sk-container-id-2 div.sk-parallel-item:first-child::after {align-self: flex-end;width: 50%;}#sk-container-id-2 div.sk-parallel-item:last-child::after {align-self: flex-start;width: 50%;}#sk-container-id-2 div.sk-parallel-item:only-child::after {width: 0;}#sk-container-id-2 div.sk-dashed-wrapped {border: 1px dashed gray;margin: 0 0.4em 0.5em 0.4em;box-sizing: border-box;padding-bottom: 0.4em;background-color: white;}#sk-container-id-2 div.sk-label label {font-family: monospace;font-weight: bold;display: inline-block;line-height: 1.2em;}#sk-container-id-2 div.sk-label-container {text-align: center;}#sk-container-id-2 div.sk-container {/* jupyter's `normalize.less` sets `[hidden] { display: none; }` but bootstrap.min.css set `[hidden] { display: none !important; }` so we also need the `!important` here to be able to override the default hidden behavior on the sphinx rendered scikit-learn.org. See: https://github.com/scikit-learn/scikit-learn/issues/21755 */display: inline-block !important;position: relative;}#sk-container-id-2 div.sk-text-repr-fallback {display: none;}</style><div id=\"sk-container-id-2\" class=\"sk-top-container\"><div class=\"sk-text-repr-fallback\"><pre>LinearRegression()</pre><b>In a Jupyter environment, please rerun this cell to show the HTML representation or trust the notebook. <br />On GitHub, the HTML representation is unable to render, please try loading this page with nbviewer.org.</b></div><div class=\"sk-container\" hidden><div class=\"sk-item\"><div class=\"sk-estimator sk-toggleable\"><input class=\"sk-toggleable__control sk-hidden--visually\" id=\"sk-estimator-id-2\" type=\"checkbox\" checked><label for=\"sk-estimator-id-2\" class=\"sk-toggleable__label sk-toggleable__label-arrow\">LinearRegression</label><div class=\"sk-toggleable__content\"><pre>LinearRegression()</pre></div></div></div></div></div>"
      ],
      "text/plain": [
       "LinearRegression()"
      ]
     },
     "execution_count": 53,
     "metadata": {},
     "output_type": "execute_result"
    }
   ],
   "source": [
    "# Fit LinearRegression model\n",
    "LR.fit(X_train, y_train)"
   ]
  },
  {
   "cell_type": "markdown",
   "id": "ab485b7d-333f-4e20-bf0b-6a2696aa5e7d",
   "metadata": {},
   "source": [
    "## 8. Make predictions using your test data (X_test)\n"
   ]
  },
  {
   "cell_type": "code",
   "execution_count": 54,
   "id": "5b66d71b-6502-4e96-b350-64d589003b21",
   "metadata": {},
   "outputs": [],
   "source": [
    "#Model evaluation\n",
    "y_pred= LR.predict(X_test)"
   ]
  },
  {
   "cell_type": "code",
   "execution_count": 55,
   "id": "a1650dfa-128c-4b05-b6b1-3c9d47b027f2",
   "metadata": {},
   "outputs": [
    {
     "name": "stdout",
     "output_type": "stream",
     "text": [
      "Coeefficients [-6.21104230e+04 -3.32948095e+03  2.10921148e+02 -7.41762711e-01\n",
      "  1.39415739e+04  9.37784171e+01  1.17142731e+02]\n"
     ]
    }
   ],
   "source": [
    "#Calculating coeefficients \n",
    "coeefficients = LR.coef_\n",
    "print(f'Coeefficients {coeefficients}')\n"
   ]
  },
  {
   "cell_type": "code",
   "execution_count": 56,
   "id": "3785a03c-7c36-4acc-b66e-dc4f96deeb52",
   "metadata": {},
   "outputs": [
    {
     "name": "stdout",
     "output_type": "stream",
     "text": [
      "Intercept 97593.42670283758\n"
     ]
    }
   ],
   "source": [
    "#Calculating Intercept\n",
    "intercept = LR.intercept_\n",
    "print(f'Intercept {intercept}')\n"
   ]
  },
  {
   "cell_type": "markdown",
   "id": "d28c867f-65b7-4183-8e3a-ad773d3233de",
   "metadata": {},
   "source": [
    "## 9. Assess your model by generating R-squared, Mean Absolute Error, Mean Squared Error, Root Mean Squared Error.\n"
   ]
  },
  {
   "cell_type": "markdown",
   "id": "7ed635dd-3832-4f79-bb81-399348ff641f",
   "metadata": {},
   "source": [
    "# Calculate model performance for test set\n",
    "y_pred = LR.predict(X_test)\n",
    "r2 = r2_score(y_test, y_pred)\n",
    "mae = mean_absolute_error(y_test, y_pred)\n",
    "mse = mean_squared_error(y_test, y_pred)\n",
    "rmse = np.sqrt(mse)\n",
    "\n",
    "print(\"Model performance for test set\")\n",
    "print(\"------------------------------\")\n",
    "print(\"r2 is {}\".format(round(r2,2)))\n",
    "print(\"MAE is {}\".format(round(mae,2)))\n",
    "print(\"MSE is {}\".format(round(mse,2)))           \n",
    "print(\"RMSE is {}\".format(round(rmse,2)))"
   ]
  },
  {
   "cell_type": "code",
   "execution_count": 57,
   "id": "bb4fd426-5e05-400f-8418-54e3ea118169",
   "metadata": {},
   "outputs": [
    {
     "data": {
      "text/plain": [
       "array([ 353944.43419467,  309381.60703723,  515147.16261656, ...,\n",
       "       1128748.18157587,  783427.19337482,  244057.06068334])"
      ]
     },
     "execution_count": 57,
     "metadata": {},
     "output_type": "execute_result"
    }
   ],
   "source": [
    "y_pred"
   ]
  },
  {
   "cell_type": "markdown",
   "id": "452f83ff-e17d-472b-8630-60f74bcb2972",
   "metadata": {},
   "source": [
    "## Export model as the pickle"
   ]
  },
  {
   "cell_type": "code",
   "execution_count": 58,
   "id": "00f0b565-80ed-4724-8aa9-96fff6203739",
   "metadata": {},
   "outputs": [],
   "source": [
    "import pickle\n",
    "with open('house_price_prediction_model.pkl','wb') as f:\n",
    "    pickle.dump(LR,f)\n",
    "    "
   ]
  },
  {
   "cell_type": "code",
   "execution_count": null,
   "id": "64e1617b-4326-420e-ba43-e60bc89f5263",
   "metadata": {},
   "outputs": [],
   "source": []
  },
  {
   "cell_type": "code",
   "execution_count": null,
   "id": "3ea8478f-f732-4666-a1c3-8e8aa838554b",
   "metadata": {},
   "outputs": [],
   "source": []
  }
 ],
 "metadata": {
  "kernelspec": {
   "display_name": "Python 3 (ipykernel)",
   "language": "python",
   "name": "python3"
  },
  "language_info": {
   "codemirror_mode": {
    "name": "ipython",
    "version": 3
   },
   "file_extension": ".py",
   "mimetype": "text/x-python",
   "name": "python",
   "nbconvert_exporter": "python",
   "pygments_lexer": "ipython3",
   "version": "3.10.9"
  }
 },
 "nbformat": 4,
 "nbformat_minor": 5
}
